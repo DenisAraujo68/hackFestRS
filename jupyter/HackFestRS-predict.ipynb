{
 "cells": [
  {
   "cell_type": "markdown",
   "metadata": {},
   "source": [
    "## Usining HDBSCAN Clustering on signatures"
   ]
  },
  {
   "cell_type": "code",
   "execution_count": 1,
   "metadata": {},
   "outputs": [],
   "source": [
    "import hdbscan\n",
    "import numpy as np\n",
    "import pandas as pd\n",
    "import matplotlib.pyplot as plt\n",
    "import seaborn as sns\n",
    "%matplotlib inline"
   ]
  },
  {
   "cell_type": "code",
   "execution_count": 2,
   "metadata": {
    "scrolled": true
   },
   "outputs": [
    {
     "data": {
      "text/plain": [
       "(5, 3)"
      ]
     },
     "execution_count": 2,
     "metadata": {},
     "output_type": "execute_result"
    }
   ],
   "source": [
    "df = pd.read_csv('predict.csv')[['vl_licitacao','indicador1','indicador2']]\n",
    "df.shape"
   ]
  },
  {
   "cell_type": "code",
   "execution_count": 3,
   "metadata": {},
   "outputs": [
    {
     "data": {
      "text/html": [
       "<div>\n",
       "<style scoped>\n",
       "    .dataframe tbody tr th:only-of-type {\n",
       "        vertical-align: middle;\n",
       "    }\n",
       "\n",
       "    .dataframe tbody tr th {\n",
       "        vertical-align: top;\n",
       "    }\n",
       "\n",
       "    .dataframe thead th {\n",
       "        text-align: right;\n",
       "    }\n",
       "</style>\n",
       "<table border=\"1\" class=\"dataframe\">\n",
       "  <thead>\n",
       "    <tr style=\"text-align: right;\">\n",
       "      <th></th>\n",
       "      <th>vl_licitacao</th>\n",
       "      <th>indicador1</th>\n",
       "      <th>indicador2</th>\n",
       "    </tr>\n",
       "  </thead>\n",
       "  <tbody>\n",
       "    <tr>\n",
       "      <th>0</th>\n",
       "      <td>7000.0</td>\n",
       "      <td>0.917143</td>\n",
       "      <td>1</td>\n",
       "    </tr>\n",
       "    <tr>\n",
       "      <th>1</th>\n",
       "      <td>300000.0</td>\n",
       "      <td>1.000010</td>\n",
       "      <td>1</td>\n",
       "    </tr>\n",
       "    <tr>\n",
       "      <th>2</th>\n",
       "      <td>44000.0</td>\n",
       "      <td>1.000000</td>\n",
       "      <td>0</td>\n",
       "    </tr>\n",
       "    <tr>\n",
       "      <th>3</th>\n",
       "      <td>18000.0</td>\n",
       "      <td>1.000000</td>\n",
       "      <td>0</td>\n",
       "    </tr>\n",
       "    <tr>\n",
       "      <th>4</th>\n",
       "      <td>46920.0</td>\n",
       "      <td>0.408696</td>\n",
       "      <td>0</td>\n",
       "    </tr>\n",
       "  </tbody>\n",
       "</table>\n",
       "</div>"
      ],
      "text/plain": [
       "   vl_licitacao  indicador1  indicador2\n",
       "0        7000.0    0.917143           1\n",
       "1      300000.0    1.000010           1\n",
       "2       44000.0    1.000000           0\n",
       "3       18000.0    1.000000           0\n",
       "4       46920.0    0.408696           0"
      ]
     },
     "execution_count": 3,
     "metadata": {},
     "output_type": "execute_result"
    }
   ],
   "source": [
    "df"
   ]
  },
  {
   "cell_type": "code",
   "execution_count": 4,
   "metadata": {},
   "outputs": [],
   "source": [
    "# Carregando dados do modelo pré-treinado\n",
    "import pickle\n",
    "\n",
    "# Carrega o modelo HDBSCAN\n",
    "with open('hdbscan-model.pkl', 'rb') as input:\n",
    "    clusterer = pickle.load(input)\n",
    "\n",
    "# Carrega os dados de treinamento\n",
    "with open('hdbscan-data.pkl', 'rb') as input:\n",
    "    data_model = pickle.load(input)\n",
    "\n",
    "# Carrega a projeção dos dados para plotagem\n",
    "with open('hdbscan-projection.pkl', 'rb') as input:\n",
    "    projection_model = pickle.load(input)\n",
    "\n",
    "# Convertendo Dataframe para Numpy Array\n",
    "from sklearn.manifold import TSNE\n",
    "data_predict = df.to_numpy()\n",
    "projection_predict = TSNE().fit_transform(data_predict)"
   ]
  },
  {
   "cell_type": "markdown",
   "metadata": {},
   "source": [
    "# Buscando a projeção dos dados de predição para plotagem\n",
    "\n",
    "projection_predict=[]\n",
    "i=0\n",
    "for elem_pred in data_predict: #varre elementos a serem preditos\n",
    "    if len(elem_pred) == len(data_model[i]) : # qtde de features devem ser iguais!\n",
    "        for j in range(len(elem_pred)) :\n",
    "            if elem_pred[0]==data_model[i][j] :\n",
    "                iguais = True\n",
    "            else :\n",
    "                iguais = False\n",
    "                break\n",
    "        if iguais :\n",
    "            projection_predict.append(projection_model[i])\n",
    "        else :\n",
    "            break\n",
    "        i+=1\n",
    "    else : # os dados de predição número de features diferentes dos dados salvos no treinamento do modelo\n",
    "        print(\"Erro ao extrair projeção de plotagem: vetores de predição é diferente dos dados salvos!\")               "
   ]
  },
  {
   "cell_type": "code",
   "execution_count": 5,
   "metadata": {},
   "outputs": [
    {
     "data": {
      "text/plain": [
       "<matplotlib.collections.PathCollection at 0x7fd5b5a50890>"
      ]
     },
     "execution_count": 5,
     "metadata": {},
     "output_type": "execute_result"
    },
    {
     "data": {
      "image/png": "[encoded data removed]",
      "text/plain": [
       "<Figure size 432x288 with 1 Axes>"
      ]
     },
     "metadata": {
      "needs_background": "light"
     },
     "output_type": "display_data"
    }
   ],
   "source": [
    "# Ajustando paleta de cores de acordo com o grupo e probabilidade \n",
    "color_palette = sns.color_palette('Paired', 12)\n",
    "cluster_colors = [color_palette[x] if x >= 0\n",
    "                  else (0.5, 0.5, 0.5)\n",
    "                  for x in clusterer.labels_]\n",
    "cluster_member_colors = [sns.desaturate(x, p) for x, p in\n",
    "                         zip(cluster_colors, clusterer.probabilities_)]\n",
    "\n",
    "# Plotando clusters e dados a serem preditos\n",
    "plt.scatter(*projection_model.T, s=50, linewidth=0, c=cluster_member_colors, alpha=0.25)\n",
    "plt.scatter(*projection_predict.T)"
   ]
  },
  {
   "cell_type": "code",
   "execution_count": null,
   "metadata": {},
   "outputs": [],
   "source": [
    "clusterer.labels_[0:10]"
   ]
  },
  {
   "cell_type": "code",
   "execution_count": null,
   "metadata": {},
   "outputs": [],
   "source": [
    "hdbscan.all_points_membership_vectors(clusterer)"
   ]
  },
  {
   "cell_type": "code",
   "execution_count": null,
   "metadata": {},
   "outputs": [],
   "source": [
    "c=0\n",
    "print(\"Qtde exemplares:\",len(clusterer.exemplars_))\n",
    "for e in clusterer.exemplars_ :\n",
    "    print(\"Qtde itens:\",len(e))\n",
    "    c+=len(e)\n",
    "print(\"Total: \",c)\n",
    "clusterer.exemplars_[0].shape"
   ]
  },
  {
   "cell_type": "code",
   "execution_count": null,
   "metadata": {},
   "outputs": [],
   "source": [
    "soft_clusters = hdbscan.all_points_membership_vectors(clusterer)\n",
    "color_palette = sns.color_palette('Paired', 12)\n",
    "cluster_colors = [color_palette[np.argmax(x)]\n",
    "                  for x in soft_clusters]\n",
    "plt.scatter(*projection.T, s=50, linewidth=0, c=cluster_colors, alpha=0.25)"
   ]
  }
 ],
 "metadata": {
  "kernelspec": {
   "display_name": "Python 3",
   "language": "python",
   "name": "python3"
  },
  "language_info": {
   "codemirror_mode": {
    "name": "ipython",
    "version": 3
   },
   "file_extension": ".py",
   "mimetype": "text/x-python",
   "name": "python",
   "nbconvert_exporter": "python",
   "pygments_lexer": "ipython3",
   "version": "3.7.5"
  }
 },
 "nbformat": 4,
 "nbformat_minor": 2
}
