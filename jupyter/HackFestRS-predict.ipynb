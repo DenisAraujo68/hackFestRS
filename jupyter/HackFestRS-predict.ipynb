{
 "cells": [
  {
   "cell_type": "markdown",
   "metadata": {},
   "source": [
    "## Usining HDBSCAN Clustering on signatures"
   ]
  },
  {
   "cell_type": "code",
   "execution_count": 1,
   "metadata": {},
   "outputs": [],
   "source": [
    "import hdbscan\n",
    "import numpy as np\n",
    "import pandas as pd\n",
    "import matplotlib.pyplot as plt\n",
    "import seaborn as sns\n",
    "%matplotlib inline"
   ]
  },
  {
   "cell_type": "code",
   "execution_count": 2,
   "metadata": {
    "scrolled": true
   },
   "outputs": [
    {
     "data": {
      "text/plain": [
       "(5, 3)"
      ]
     },
     "execution_count": 2,
     "metadata": {},
     "output_type": "execute_result"
    }
   ],
   "source": [
    "df = pd.read_csv('predict.csv')[['vl_licitacao','indicador1','indicador2']]\n",
    "df.shape"
   ]
  },
  {
   "cell_type": "code",
   "execution_count": 3,
   "metadata": {},
   "outputs": [
    {
     "data": {
      "text/html": [
       "<div>\n",
       "<style scoped>\n",
       "    .dataframe tbody tr th:only-of-type {\n",
       "        vertical-align: middle;\n",
       "    }\n",
       "\n",
       "    .dataframe tbody tr th {\n",
       "        vertical-align: top;\n",
       "    }\n",
       "\n",
       "    .dataframe thead th {\n",
       "        text-align: right;\n",
       "    }\n",
       "</style>\n",
       "<table border=\"1\" class=\"dataframe\">\n",
       "  <thead>\n",
       "    <tr style=\"text-align: right;\">\n",
       "      <th></th>\n",
       "      <th>vl_licitacao</th>\n",
       "      <th>indicador1</th>\n",
       "      <th>indicador2</th>\n",
       "    </tr>\n",
       "  </thead>\n",
       "  <tbody>\n",
       "    <tr>\n",
       "      <th>0</th>\n",
       "      <td>7000.0</td>\n",
       "      <td>0.917143</td>\n",
       "      <td>1</td>\n",
       "    </tr>\n",
       "    <tr>\n",
       "      <th>1</th>\n",
       "      <td>300000.0</td>\n",
       "      <td>1.000010</td>\n",
       "      <td>1</td>\n",
       "    </tr>\n",
       "    <tr>\n",
       "      <th>2</th>\n",
       "      <td>44000.0</td>\n",
       "      <td>1.000000</td>\n",
       "      <td>0</td>\n",
       "    </tr>\n",
       "    <tr>\n",
       "      <th>3</th>\n",
       "      <td>18000.0</td>\n",
       "      <td>1.000000</td>\n",
       "      <td>0</td>\n",
       "    </tr>\n",
       "    <tr>\n",
       "      <th>4</th>\n",
       "      <td>46920.0</td>\n",
       "      <td>0.408696</td>\n",
       "      <td>0</td>\n",
       "    </tr>\n",
       "  </tbody>\n",
       "</table>\n",
       "</div>"
      ],
      "text/plain": [
       "   vl_licitacao  indicador1  indicador2\n",
       "0        7000.0    0.917143           1\n",
       "1      300000.0    1.000010           1\n",
       "2       44000.0    1.000000           0\n",
       "3       18000.0    1.000000           0\n",
       "4       46920.0    0.408696           0"
      ]
     },
     "execution_count": 3,
     "metadata": {},
     "output_type": "execute_result"
    }
   ],
   "source": [
    "df"
   ]
  },
  {
   "cell_type": "code",
   "execution_count": 12,
   "metadata": {},
   "outputs": [
    {
     "ename": "AttributeError",
     "evalue": "'numpy.ndarray' object has no attribute 'index'",
     "output_type": "error",
     "traceback": [
      "\u001b[0;31m---------------------------------------------------------------------------\u001b[0m",
      "\u001b[0;31mAttributeError\u001b[0m                            Traceback (most recent call last)",
      "\u001b[0;32m<ipython-input-12-aa65a6149c73>\u001b[0m in \u001b[0;36m<module>\u001b[0;34m\u001b[0m\n\u001b[1;32m     18\u001b[0m \u001b[0mprojection_predict\u001b[0m\u001b[0;34m=\u001b[0m\u001b[0;34m[\u001b[0m\u001b[0;34m]\u001b[0m\u001b[0;34m\u001b[0m\u001b[0;34m\u001b[0m\u001b[0m\n\u001b[1;32m     19\u001b[0m \u001b[0;32mfor\u001b[0m \u001b[0md\u001b[0m \u001b[0;32min\u001b[0m \u001b[0mdata_predict\u001b[0m\u001b[0;34m:\u001b[0m\u001b[0;34m\u001b[0m\u001b[0;34m\u001b[0m\u001b[0m\n\u001b[0;32m---> 20\u001b[0;31m     \u001b[0mdata_model\u001b[0m\u001b[0;34m.\u001b[0m\u001b[0mindex\u001b[0m\u001b[0;34m(\u001b[0m\u001b[0md\u001b[0m\u001b[0;34m)\u001b[0m\u001b[0;34m\u001b[0m\u001b[0;34m\u001b[0m\u001b[0m\n\u001b[0m\u001b[1;32m     21\u001b[0m     \u001b[0mprint\u001b[0m\u001b[0;34m(\u001b[0m\u001b[0md\u001b[0m\u001b[0;34m)\u001b[0m\u001b[0;34m\u001b[0m\u001b[0;34m\u001b[0m\u001b[0m\n",
      "\u001b[0;31mAttributeError\u001b[0m: 'numpy.ndarray' object has no attribute 'index'"
     ]
    }
   ],
   "source": [
    "# Carregando dados do modelo pré-treinado\n",
    "import pickle\n",
    "\n",
    "# Carrega o modelo HDBSCAN\n",
    "with open('hdbscan-model.pkl', 'rb') as input:\n",
    "    clusterer = pickle.load(input)\n",
    "\n",
    "# Carrega os dados de treinamento\n",
    "with open('hdbscan-data.pkl', 'rb') as input:\n",
    "    data_model = pickle.load(input)\n",
    "\n",
    "# Carrega a projeção dos dados para plotagem\n",
    "with open('hdbscan-projection.pkl', 'rb') as input:\n",
    "    projection_model = pickle.load(input)"
   ]
  },
  {
   "cell_type": "code",
   "execution_count": 27,
   "metadata": {},
   "outputs": [
    {
     "data": {
      "text/plain": [
       "[]"
      ]
     },
     "execution_count": 27,
     "metadata": {},
     "output_type": "execute_result"
    }
   ],
   "source": [
    "# Buscando a projeção dos dados de predição para plotagem\n",
    "data_predict = df.to_numpy()\n",
    "projection_predict=[]\n",
    "i=0\n",
    "for elem_pred in data_predict: #varre elementos a serem preditos\n",
    "    if len(elem_pred) == len(data_model[i]) : # qtde de features devem ser iguais!\n",
    "        for j in range(len(elem_pred)) :\n",
    "            if elem_pred[0]==data_model[i][j] :\n",
    "                iguais = True\n",
    "            else :\n",
    "                iguais = False\n",
    "                break\n",
    "        if iguais :\n",
    "            projection_predict.append(projection_model[i])\n",
    "        else :\n",
    "            break\n",
    "        i+=1\n",
    "    else : # os dados de predição número de features diferentes dos dados salvos no treinamento do modelo\n",
    "        print(\"Erro ao extrair projeção de plotagem: vetores de predição é diferente dos dados salvos!\")\n",
    "projection_predict\n",
    "                "
   ]
  },
  {
   "cell_type": "code",
   "execution_count": 7,
   "metadata": {},
   "outputs": [
    {
     "data": {
      "text/plain": [
       "<matplotlib.collections.PathCollection at 0x7f5d7f09cad0>"
      ]
     },
     "execution_count": 7,
     "metadata": {},
     "output_type": "execute_result"
    },
    {
     "data": {
      "image/png": "[encoded data removed]",
      "text/plain": [
       "<Figure size 432x288 with 1 Axes>"
      ]
     },
     "metadata": {
      "needs_background": "light"
     },
     "output_type": "display_data"
    }
   ],
   "source": [
    "# Ajustando paleta de cores de acordo com o grupo e probabilidade \n",
    "color_palette = sns.color_palette('Paired', 12)\n",
    "cluster_colors = [color_palette[x] if x >= 0\n",
    "                  else (0.5, 0.5, 0.5)\n",
    "                  for x in clusterer.labels_]\n",
    "cluster_member_colors = [sns.desaturate(x, p) for x, p in\n",
    "                         zip(cluster_colors, clusterer.probabilities_)]\n",
    "\n",
    "# Plotando clusters e dados a serem preditos\n",
    "plt.scatter(*projection.T, s=50, linewidth=0, c=cluster_member_colors, alpha=0.25)\n",
    "plt.scatter(*projection_predict.T)"
   ]
  },
  {
   "cell_type": "code",
   "execution_count": 8,
   "metadata": {},
   "outputs": [
    {
     "data": {
      "text/plain": [
       "array([5, 5, 5, 5, 5, 5, 5, 5, 5, 5])"
      ]
     },
     "execution_count": 8,
     "metadata": {},
     "output_type": "execute_result"
    }
   ],
   "source": [
    "clusterer.labels_[0:10]"
   ]
  },
  {
   "cell_type": "code",
   "execution_count": 33,
   "metadata": {},
   "outputs": [
    {
     "data": {
      "text/plain": [
       "array([[4.07532406e-05, 4.07571368e-05, 5.88501245e-05, ...,\n",
       "        1.31148293e-01, 1.32404756e-01, 1.34453370e-01],\n",
       "       [1.51431814e-05, 1.35598538e-05, 1.35598534e-05, ...,\n",
       "        5.39890198e-02, 5.05771907e-02, 4.67049778e-02],\n",
       "       [8.52094173e-06, 8.52094186e-06, 8.52094190e-06, ...,\n",
       "        1.64696350e-01, 1.88455927e-01, 2.45127558e-01],\n",
       "       ...,\n",
       "       [3.14344086e-05, 3.14344090e-05, 3.14344091e-05, ...,\n",
       "        1.47279009e-01, 1.56325526e-01, 1.51303420e-01],\n",
       "       [7.66680308e-06, 7.66680303e-06, 7.66680281e-06, ...,\n",
       "        5.08132579e-02, 4.74652562e-02, 4.36830078e-02],\n",
       "       [1.53110200e-06, 1.53110202e-06, 1.53110202e-06, ...,\n",
       "        8.33343406e-02, 2.75148812e-01, 2.46676362e-01]])"
      ]
     },
     "execution_count": 33,
     "metadata": {},
     "output_type": "execute_result"
    }
   ],
   "source": [
    "hdbscan.all_points_membership_vectors(clusterer)"
   ]
  },
  {
   "cell_type": "code",
   "execution_count": 18,
   "metadata": {},
   "outputs": [
    {
     "name": "stdout",
     "output_type": "stream",
     "text": [
      "Qtde exemplares: 11\n",
      "Qtde itens: 35\n",
      "Qtde itens: 35\n",
      "Qtde itens: 70\n",
      "Qtde itens: 35\n",
      "Qtde itens: 37\n",
      "Qtde itens: 35\n",
      "Qtde itens: 35\n",
      "Qtde itens: 35\n",
      "Qtde itens: 35\n",
      "Qtde itens: 35\n",
      "Qtde itens: 280\n",
      "Total:  667\n"
     ]
    },
    {
     "data": {
      "text/plain": [
       "(35, 3)"
      ]
     },
     "execution_count": 18,
     "metadata": {},
     "output_type": "execute_result"
    }
   ],
   "source": [
    "c=0\n",
    "print(\"Qtde exemplares:\",len(clusterer.exemplars_))\n",
    "for e in clusterer.exemplars_ :\n",
    "    print(\"Qtde itens:\",len(e))\n",
    "    c+=len(e)\n",
    "print(\"Total: \",c)\n",
    "clusterer.exemplars_[0].shape"
   ]
  },
  {
   "cell_type": "code",
   "execution_count": null,
   "metadata": {},
   "outputs": [],
   "source": [
    "soft_clusters = hdbscan.all_points_membership_vectors(clusterer)\n",
    "color_palette = sns.color_palette('Paired', 12)\n",
    "cluster_colors = [color_palette[np.argmax(x)]\n",
    "                  for x in soft_clusters]\n",
    "plt.scatter(*projection.T, s=50, linewidth=0, c=cluster_colors, alpha=0.25)"
   ]
  },
  {
   "cell_type": "markdown",
   "metadata": {},
   "source": [
    "### Outliar Detection"
   ]
  },
  {
   "cell_type": "code",
   "execution_count": null,
   "metadata": {},
   "outputs": [],
   "source": [
    "data = np.load('clusterable_data.npy')\n",
    "plt.scatter(*data.T, s=50, linewidth=0, c='b', alpha=0.25)"
   ]
  },
  {
   "cell_type": "code",
   "execution_count": null,
   "metadata": {},
   "outputs": [],
   "source": [
    "clusterer = hdbscan.HDBSCAN(min_cluster_size=15).fit(data)\n",
    "sns.distplot(clusterer.outlier_scores_[np.isfinite(clusterer.outlier_scores_)], rug=True)"
   ]
  },
  {
   "cell_type": "code",
   "execution_count": null,
   "metadata": {},
   "outputs": [],
   "source": [
    "import pandas as pd\n",
    "threshold = pd.Series(clusterer.outlier_scores_).quantile(0.9)\n",
    "outliers = np.where(clusterer.outlier_scores_ > threshold)[0]\n",
    "plt.scatter(*data.T, s=50, linewidth=0, c='gray', alpha=0.25)\n",
    "plt.scatter(*data[outliers].T, s=50, linewidth=0, c='red', alpha=0.5)"
   ]
  },
  {
   "cell_type": "markdown",
   "metadata": {},
   "source": [
    "### Predicting clusters for new points"
   ]
  },
  {
   "cell_type": "code",
   "execution_count": null,
   "metadata": {},
   "outputs": [],
   "source": [
    "data"
   ]
  },
  {
   "cell_type": "code",
   "execution_count": null,
   "metadata": {},
   "outputs": [],
   "source": [
    "test_points = data\n",
    "test_labels, strengths = hdbscan.approximate_predict(clusterer, test_points)\n",
    "colors = [sns.desaturate(pal[col], sat) for col, sat in zip(clusterer.labels_,\n",
    "                                                            clusterer.probabilities_)]\n",
    "test_colors = [pal[col] if col >= 0 else (0.1, 0.1, 0.1) for col in test_labels]\n",
    "plt.scatter(data.T[0], data.T[1], c=colors);\n",
    "plt.scatter(*test_points.T, c=test_colors, s=80, linewidths=1, edgecolors='k')"
   ]
  },
  {
   "cell_type": "code",
   "execution_count": null,
   "metadata": {},
   "outputs": [],
   "source": [
    "test_points = np.random.random(size=(50, 2)) - 0.5\n",
    "\n",
    "colors = [sns.desaturate(pal[col], sat) for col, sat in zip(clusterer.labels_,\n",
    "                                                            clusterer.probabilities_)]\n",
    "plt.scatter(data.T[0], data.T[1], c=colors);\n",
    "plt.scatter(*test_points.T, c='k', s=50)"
   ]
  },
  {
   "cell_type": "code",
   "execution_count": null,
   "metadata": {},
   "outputs": [],
   "source": [
    "test_labels, strengths = hdbscan.approximate_predict(clusterer, test_points)\n",
    "colors = [sns.desaturate(pal[col], sat) for col, sat in zip(clusterer.labels_,\n",
    "                                                            clusterer.probabilities_)]\n",
    "test_colors = [pal[col] if col >= 0 else (0.1, 0.1, 0.1) for col in test_labels]\n",
    "plt.scatter(data.T[0], data.T[1], c=colors);\n",
    "plt.scatter(*test_points.T, c=test_colors, s=80, linewidths=1, edgecolors='k')"
   ]
  },
  {
   "cell_type": "code",
   "execution_count": null,
   "metadata": {},
   "outputs": [],
   "source": [
    "digits = datasets.load_digits()\n",
    "data = digits.data\n",
    "projection = TSNE().fit_transform(data)\n",
    "plt.scatter(*projection.T,)"
   ]
  },
  {
   "cell_type": "code",
   "execution_count": null,
   "metadata": {},
   "outputs": [],
   "source": [
    "clusterer = hdbscan.HDBSCAN(min_cluster_size=10, prediction_data=True).fit(data)\n",
    "color_palette = sns.color_palette('Paired', 12)\n",
    "cluster_colors = [color_palette[x] if x >= 0\n",
    "                  else (0.5, 0.5, 0.5)\n",
    "                  for x in clusterer.labels_]\n",
    "cluster_member_colors = [sns.desaturate(x, p) for x, p in\n",
    "                         zip(cluster_colors, clusterer.probabilities_)]\n",
    "plt.scatter(*projection.T, s=50, linewidth=0, c=cluster_member_colors, alpha=0.25)"
   ]
  },
  {
   "cell_type": "code",
   "execution_count": null,
   "metadata": {},
   "outputs": [],
   "source": [
    "soft_clusters = hdbscan.all_points_membership_vectors(clusterer)\n",
    "color_palette = sns.color_palette('Paired', 12)\n",
    "cluster_colors = [color_palette[np.argmax(x)]\n",
    "                  for x in soft_clusters]\n",
    "plt.scatter(*projection.T, s=50, linewidth=0, c=cluster_colors, alpha=0.25)"
   ]
  },
  {
   "cell_type": "code",
   "execution_count": null,
   "metadata": {},
   "outputs": [],
   "source": [
    "color_palette = sns.color_palette('Paired', 12)\n",
    "cluster_colors = [sns.desaturate(color_palette[np.argmax(x)], np.max(x))\n",
    "                  for x in soft_clusters]\n",
    "plt.scatter(*projection.T, s=50, linewidth=0, c=cluster_colors, alpha=0.25)"
   ]
  },
  {
   "cell_type": "code",
   "execution_count": null,
   "metadata": {},
   "outputs": [],
   "source": [
    "def top_two_probs_diff(probs):\n",
    "    sorted_probs = np.sort(probs)\n",
    "    return sorted_probs[-1] - sorted_probs[-2]\n",
    "\n",
    "# Compute the differences between the top two probabilities\n",
    "diffs = np.array([top_two_probs_diff(x) for x in soft_clusters])\n",
    "# Select out the indices that have a small difference, and a larger total probability\n",
    "mixed_points = np.where((diffs < 0.001) & (np.sum(soft_clusters, axis=1) > 0.5))[0]\n",
    "colors = [(0.75, 0.1, 0.1) if x in mixed_points\n",
    "          else (0.5, 0.5, 0.5) for x in range(data.shape[0])]\n",
    "plt.scatter(*projection.T, s=50, linewidth=0, c=colors, alpha=0.5)"
   ]
  },
  {
   "cell_type": "code",
   "execution_count": null,
   "metadata": {},
   "outputs": [],
   "source": [
    "fig = plt.figure()\n",
    "for i, image in enumerate(digits.images[mixed_points][:16]):\n",
    "    ax = fig.add_subplot(4,4,i+1)\n",
    "    ax.imshow(image)\n",
    "plt.tight_layout()"
   ]
  },
  {
   "cell_type": "code",
   "execution_count": null,
   "metadata": {},
   "outputs": [],
   "source": []
  }
 ],
 "metadata": {
  "kernelspec": {
   "display_name": "Python 3",
   "language": "python",
   "name": "python3"
  },
  "language_info": {
   "codemirror_mode": {
    "name": "ipython",
    "version": 3
   },
   "file_extension": ".py",
   "mimetype": "text/x-python",
   "name": "python",
   "nbconvert_exporter": "python",
   "pygments_lexer": "ipython3",
   "version": "3.7.5"
  }
 },
 "nbformat": 4,
 "nbformat_minor": 2
}
