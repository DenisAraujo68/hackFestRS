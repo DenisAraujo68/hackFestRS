{
 "cells": [
  {
   "cell_type": "markdown",
   "metadata": {},
   "source": [
    "## Usining HDBSCAN Clustering on signatures"
   ]
  },
  {
   "cell_type": "code",
   "execution_count": 1,
   "metadata": {},
   "outputs": [],
   "source": [
    "import hdbscan\n",
    "import numpy as np\n",
    "import pandas as pd\n",
    "import matplotlib.pyplot as plt\n",
    "import seaborn as sns\n",
    "%matplotlib inline"
   ]
  },
  {
   "cell_type": "code",
   "execution_count": 2,
   "metadata": {
    "scrolled": true
   },
   "outputs": [
    {
     "data": {
      "text/plain": [
       "(2960, 3)"
      ]
     },
     "execution_count": 2,
     "metadata": {},
     "output_type": "execute_result"
    }
   ],
   "source": [
    "df = pd.read_csv('indicadores2-07-11.csv')[['vl_licitacao','indicador1','indicador2']]\n",
    "df.shape"
   ]
  },
  {
   "cell_type": "code",
   "execution_count": 3,
   "metadata": {},
   "outputs": [
    {
     "data": {
      "text/html": [
       "<div>\n",
       "<style scoped>\n",
       "    .dataframe tbody tr th:only-of-type {\n",
       "        vertical-align: middle;\n",
       "    }\n",
       "\n",
       "    .dataframe tbody tr th {\n",
       "        vertical-align: top;\n",
       "    }\n",
       "\n",
       "    .dataframe thead th {\n",
       "        text-align: right;\n",
       "    }\n",
       "</style>\n",
       "<table border=\"1\" class=\"dataframe\">\n",
       "  <thead>\n",
       "    <tr style=\"text-align: right;\">\n",
       "      <th></th>\n",
       "      <th>vl_licitacao</th>\n",
       "      <th>indicador1</th>\n",
       "      <th>indicador2</th>\n",
       "    </tr>\n",
       "  </thead>\n",
       "  <tbody>\n",
       "    <tr>\n",
       "      <th>0</th>\n",
       "      <td>7000.0</td>\n",
       "      <td>0.917143</td>\n",
       "      <td>1</td>\n",
       "    </tr>\n",
       "    <tr>\n",
       "      <th>1</th>\n",
       "      <td>300000.0</td>\n",
       "      <td>1.000010</td>\n",
       "      <td>1</td>\n",
       "    </tr>\n",
       "    <tr>\n",
       "      <th>2</th>\n",
       "      <td>44000.0</td>\n",
       "      <td>1.000000</td>\n",
       "      <td>0</td>\n",
       "    </tr>\n",
       "    <tr>\n",
       "      <th>3</th>\n",
       "      <td>18000.0</td>\n",
       "      <td>1.000000</td>\n",
       "      <td>0</td>\n",
       "    </tr>\n",
       "    <tr>\n",
       "      <th>4</th>\n",
       "      <td>46920.0</td>\n",
       "      <td>0.408696</td>\n",
       "      <td>0</td>\n",
       "    </tr>\n",
       "  </tbody>\n",
       "</table>\n",
       "</div>"
      ],
      "text/plain": [
       "   vl_licitacao  indicador1  indicador2\n",
       "0        7000.0    0.917143           1\n",
       "1      300000.0    1.000010           1\n",
       "2       44000.0    1.000000           0\n",
       "3       18000.0    1.000000           0\n",
       "4       46920.0    0.408696           0"
      ]
     },
     "execution_count": 3,
     "metadata": {},
     "output_type": "execute_result"
    }
   ],
   "source": [
    "df[:5]"
   ]
  },
  {
   "cell_type": "code",
   "execution_count": 4,
   "metadata": {},
   "outputs": [
    {
     "data": {
      "text/html": [
       "<div>\n",
       "<style scoped>\n",
       "    .dataframe tbody tr th:only-of-type {\n",
       "        vertical-align: middle;\n",
       "    }\n",
       "\n",
       "    .dataframe tbody tr th {\n",
       "        vertical-align: top;\n",
       "    }\n",
       "\n",
       "    .dataframe thead th {\n",
       "        text-align: right;\n",
       "    }\n",
       "</style>\n",
       "<table border=\"1\" class=\"dataframe\">\n",
       "  <thead>\n",
       "    <tr style=\"text-align: right;\">\n",
       "      <th></th>\n",
       "      <th>0</th>\n",
       "      <th>1</th>\n",
       "      <th>2</th>\n",
       "    </tr>\n",
       "  </thead>\n",
       "  <tbody>\n",
       "    <tr>\n",
       "      <th>0</th>\n",
       "      <td>0.000007</td>\n",
       "      <td>9.778759e-08</td>\n",
       "      <td>1.0</td>\n",
       "    </tr>\n",
       "    <tr>\n",
       "      <th>1</th>\n",
       "      <td>0.000300</td>\n",
       "      <td>1.066230e-07</td>\n",
       "      <td>1.0</td>\n",
       "    </tr>\n",
       "    <tr>\n",
       "      <th>2</th>\n",
       "      <td>0.000044</td>\n",
       "      <td>1.066220e-07</td>\n",
       "      <td>0.0</td>\n",
       "    </tr>\n",
       "    <tr>\n",
       "      <th>3</th>\n",
       "      <td>0.000018</td>\n",
       "      <td>1.066220e-07</td>\n",
       "      <td>0.0</td>\n",
       "    </tr>\n",
       "    <tr>\n",
       "      <th>4</th>\n",
       "      <td>0.000047</td>\n",
       "      <td>4.357597e-08</td>\n",
       "      <td>0.0</td>\n",
       "    </tr>\n",
       "  </tbody>\n",
       "</table>\n",
       "</div>"
      ],
      "text/plain": [
       "          0             1    2\n",
       "0  0.000007  9.778759e-08  1.0\n",
       "1  0.000300  1.066230e-07  1.0\n",
       "2  0.000044  1.066220e-07  0.0\n",
       "3  0.000018  1.066220e-07  0.0\n",
       "4  0.000047  4.357597e-08  0.0"
      ]
     },
     "execution_count": 4,
     "metadata": {},
     "output_type": "execute_result"
    }
   ],
   "source": [
    "from sklearn import preprocessing\n",
    "import seaborn as sn\n",
    "\n",
    "min_max_scaler = preprocessing.MinMaxScaler()\n",
    "scaled_array = min_max_scaler.fit_transform(df.values.astype(float))\n",
    "df_normalized = pd.DataFrame(scaled_array)\n",
    "df_normalized[:5]"
   ]
  },
  {
   "cell_type": "code",
   "execution_count": 9,
   "metadata": {},
   "outputs": [
    {
     "data": {
      "text/plain": [
       "<matplotlib.collections.PathCollection at 0x7f5c70611210>"
      ]
     },
     "execution_count": 9,
     "metadata": {},
     "output_type": "execute_result"
    },
    {
     "data": {
      "image/png": "[encoded data removed]",
      "text/plain": [
       "<Figure size 432x288 with 1 Axes>"
      ]
     },
     "metadata": {
      "needs_background": "light"
     },
     "output_type": "display_data"
    }
   ],
   "source": [
    "from sklearn.manifold import TSNE\n",
    "\n",
    "data = df_normalized.to_numpy()\n",
    "projection = TSNE().fit_transform(data)\n",
    "plt.scatter(*projection.T)"
   ]
  },
  {
   "cell_type": "code",
   "execution_count": 10,
   "metadata": {},
   "outputs": [],
   "source": [
    "clusterer = hdbscan.HDBSCAN(min_cluster_size=35, prediction_data=True).fit(data)"
   ]
  },
  {
   "cell_type": "code",
   "execution_count": 11,
   "metadata": {},
   "outputs": [
    {
     "data": {
      "text/plain": [
       "array([ 2,  0, 10, 10, 10,  2, 10, 10, -1, -1])"
      ]
     },
     "execution_count": 11,
     "metadata": {},
     "output_type": "execute_result"
    }
   ],
   "source": [
    "clusterer.labels_[0:10]"
   ]
  },
  {
   "cell_type": "code",
   "execution_count": 12,
   "metadata": {},
   "outputs": [
    {
     "data": {
      "text/plain": [
       "<matplotlib.collections.PathCollection at 0x7f5c704a3f10>"
      ]
     },
     "execution_count": 12,
     "metadata": {},
     "output_type": "execute_result"
    },
    {
     "data": {
      "image/png": "[encoded data removed]",
      "text/plain": [
       "<Figure size 432x288 with 1 Axes>"
      ]
     },
     "metadata": {
      "needs_background": "light"
     },
     "output_type": "display_data"
    }
   ],
   "source": [
    "color_palette = sns.color_palette('Paired', 12)\n",
    "cluster_colors = [color_palette[x] if x >= 0\n",
    "                  else (0.5, 0.5, 0.5)\n",
    "                  for x in clusterer.labels_]\n",
    "cluster_member_colors = [sns.desaturate(x, p) for x, p in\n",
    "                         zip(cluster_colors, clusterer.probabilities_)]\n",
    "plt.scatter(*projection.T, s=50, linewidth=0, c=cluster_member_colors, alpha=0.25)"
   ]
  },
  {
   "cell_type": "code",
   "execution_count": null,
   "metadata": {},
   "outputs": [],
   "source": [
    "soft_clusters = hdbscan.all_points_membership_vectors(clusterer)\n",
    "color_palette = sns.color_palette('Paired', 12)\n",
    "cluster_colors = [color_palette[np.argmax(x)]\n",
    "                  for x in soft_clusters]\n",
    "plt.scatter(*projection.T, s=50, linewidth=0, c=cluster_colors, alpha=0.25)"
   ]
  },
  {
   "cell_type": "markdown",
   "metadata": {},
   "source": [
    "### Outliar Detection"
   ]
  },
  {
   "cell_type": "code",
   "execution_count": null,
   "metadata": {},
   "outputs": [],
   "source": [
    "data = np.load('clusterable_data.npy')\n",
    "plt.scatter(*data.T, s=50, linewidth=0, c='b', alpha=0.25)"
   ]
  },
  {
   "cell_type": "code",
   "execution_count": null,
   "metadata": {},
   "outputs": [],
   "source": [
    "clusterer = hdbscan.HDBSCAN(min_cluster_size=15).fit(data)\n",
    "sns.distplot(clusterer.outlier_scores_[np.isfinite(clusterer.outlier_scores_)], rug=True)"
   ]
  },
  {
   "cell_type": "code",
   "execution_count": null,
   "metadata": {},
   "outputs": [],
   "source": [
    "import pandas as pd\n",
    "threshold = pd.Series(clusterer.outlier_scores_).quantile(0.9)\n",
    "outliers = np.where(clusterer.outlier_scores_ > threshold)[0]\n",
    "plt.scatter(*data.T, s=50, linewidth=0, c='gray', alpha=0.25)\n",
    "plt.scatter(*data[outliers].T, s=50, linewidth=0, c='red', alpha=0.5)"
   ]
  },
  {
   "cell_type": "markdown",
   "metadata": {},
   "source": [
    "### Predicting clusters for new points"
   ]
  },
  {
   "cell_type": "code",
   "execution_count": null,
   "metadata": {},
   "outputs": [],
   "source": [
    "data = np.load('clusterable_data.npy')\n",
    "clusterer = hdbscan.HDBSCAN(min_cluster_size=15, prediction_data=True).fit(data)\n",
    "pal = sns.color_palette('deep', 8)\n",
    "colors = [sns.desaturate(pal[col], sat) for col, sat in zip(clusterer.labels_,\n",
    "                                                            clusterer.probabilities_)]\n",
    "plt.scatter(data.T[0], data.T[1], c=colors);"
   ]
  },
  {
   "cell_type": "code",
   "execution_count": null,
   "metadata": {},
   "outputs": [],
   "source": [
    "test_points = np.random.random(size=(50, 2)) - 0.5\n",
    "\n",
    "colors = [sns.desaturate(pal[col], sat) for col, sat in zip(clusterer.labels_,\n",
    "                                                            clusterer.probabilities_)]\n",
    "plt.scatter(data.T[0], data.T[1], c=colors);\n",
    "plt.scatter(*test_points.T, c='k', s=50)"
   ]
  },
  {
   "cell_type": "code",
   "execution_count": null,
   "metadata": {},
   "outputs": [],
   "source": [
    "test_labels, strengths = hdbscan.approximate_predict(clusterer, test_points)\n",
    "colors = [sns.desaturate(pal[col], sat) for col, sat in zip(clusterer.labels_,\n",
    "                                                            clusterer.probabilities_)]\n",
    "test_colors = [pal[col] if col >= 0 else (0.1, 0.1, 0.1) for col in test_labels]\n",
    "plt.scatter(data.T[0], data.T[1], c=colors);\n",
    "plt.scatter(*test_points.T, c=test_colors, s=80, linewidths=1, edgecolors='k')"
   ]
  },
  {
   "cell_type": "code",
   "execution_count": null,
   "metadata": {},
   "outputs": [],
   "source": [
    "digits = datasets.load_digits()\n",
    "data = digits.data\n",
    "projection = TSNE().fit_transform(data)\n",
    "plt.scatter(*projection.T,)"
   ]
  },
  {
   "cell_type": "code",
   "execution_count": null,
   "metadata": {},
   "outputs": [],
   "source": [
    "clusterer = hdbscan.HDBSCAN(min_cluster_size=10, prediction_data=True).fit(data)\n",
    "color_palette = sns.color_palette('Paired', 12)\n",
    "cluster_colors = [color_palette[x] if x >= 0\n",
    "                  else (0.5, 0.5, 0.5)\n",
    "                  for x in clusterer.labels_]\n",
    "cluster_member_colors = [sns.desaturate(x, p) for x, p in\n",
    "                         zip(cluster_colors, clusterer.probabilities_)]\n",
    "plt.scatter(*projection.T, s=50, linewidth=0, c=cluster_member_colors, alpha=0.25)"
   ]
  },
  {
   "cell_type": "code",
   "execution_count": null,
   "metadata": {},
   "outputs": [],
   "source": [
    "soft_clusters = hdbscan.all_points_membership_vectors(clusterer)\n",
    "color_palette = sns.color_palette('Paired', 12)\n",
    "cluster_colors = [color_palette[np.argmax(x)]\n",
    "                  for x in soft_clusters]\n",
    "plt.scatter(*projection.T, s=50, linewidth=0, c=cluster_colors, alpha=0.25)"
   ]
  },
  {
   "cell_type": "code",
   "execution_count": null,
   "metadata": {},
   "outputs": [],
   "source": [
    "color_palette = sns.color_palette('Paired', 12)\n",
    "cluster_colors = [sns.desaturate(color_palette[np.argmax(x)], np.max(x))\n",
    "                  for x in soft_clusters]\n",
    "plt.scatter(*projection.T, s=50, linewidth=0, c=cluster_colors, alpha=0.25)"
   ]
  },
  {
   "cell_type": "code",
   "execution_count": null,
   "metadata": {},
   "outputs": [],
   "source": [
    "def top_two_probs_diff(probs):\n",
    "    sorted_probs = np.sort(probs)\n",
    "    return sorted_probs[-1] - sorted_probs[-2]\n",
    "\n",
    "# Compute the differences between the top two probabilities\n",
    "diffs = np.array([top_two_probs_diff(x) for x in soft_clusters])\n",
    "# Select out the indices that have a small difference, and a larger total probability\n",
    "mixed_points = np.where((diffs < 0.001) & (np.sum(soft_clusters, axis=1) > 0.5))[0]\n",
    "colors = [(0.75, 0.1, 0.1) if x in mixed_points\n",
    "          else (0.5, 0.5, 0.5) for x in range(data.shape[0])]\n",
    "plt.scatter(*projection.T, s=50, linewidth=0, c=colors, alpha=0.5)"
   ]
  },
  {
   "cell_type": "code",
   "execution_count": null,
   "metadata": {},
   "outputs": [],
   "source": [
    "fig = plt.figure()\n",
    "for i, image in enumerate(digits.images[mixed_points][:16]):\n",
    "    ax = fig.add_subplot(4,4,i+1)\n",
    "    ax.imshow(image)\n",
    "plt.tight_layout()"
   ]
  },
  {
   "cell_type": "code",
   "execution_count": null,
   "metadata": {},
   "outputs": [],
   "source": []
  }
 ],
 "metadata": {
  "kernelspec": {
   "display_name": "Python 3",
   "language": "python",
   "name": "python3"
  },
  "language_info": {
   "codemirror_mode": {
    "name": "ipython",
    "version": 3
   },
   "file_extension": ".py",
   "mimetype": "text/x-python",
   "name": "python",
   "nbconvert_exporter": "python",
   "pygments_lexer": "ipython3",
   "version": "3.7.5"
  }
 },
 "nbformat": 4,
 "nbformat_minor": 2
}
